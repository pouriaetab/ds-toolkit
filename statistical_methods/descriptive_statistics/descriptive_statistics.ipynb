{
 "cells": [
  {
   "cell_type": "markdown",
   "metadata": {},
   "source": [
    "# Contrails Detection Analysis\n",
    "\n",
    "This notebook delves into a dataset crafted with randomized values to simulate atmospheric conditions impacting contrail formation and visibility. Utilizing descriptive statistics, its objective is to discern patterns concerning altitude, temperature, humidity, and contrail persistence."
   ]
  },
  {
   "cell_type": "code",
   "execution_count": 9,
   "metadata": {},
   "outputs": [
    {
     "data": {
      "text/plain": [
       "(100, 6)"
      ]
     },
     "execution_count": 9,
     "metadata": {},
     "output_type": "execute_result"
    }
   ],
   "source": [
    "import pandas as pd\n",
    "import numpy as np\n",
    "import matplotlib.pyplot as plt\n",
    "import seaborn as sns\n",
    "\n",
    "# Seed for reproducibility\n",
    "np.random.seed(42)\n",
    "\n",
    "# Generate sample data\n",
    "data = {\n",
    "    \"ObservationID\": range(1, 101),\n",
    "    \"Altitude\": np.random.randint(30000, 40000, 100),  # Contrails typically form at high altitudes\n",
    "    \"Temperature\": np.random.randint(-50, -20, 100),  # Very cold temperatures at high altitudes\n",
    "    \"RelativeHumidity\": np.random.randint(60, 100, 100),  # Higher humidity needed for contrail formation\n",
    "    \"ContrailPersistence\": np.random.randint(1, 60, 100),  # Persistence can vary widely\n",
    "    \"SkyCoverage\": np.random.randint(0, 100, 100)  # Percentage of sky covered by contrails\n",
    "}\n",
    "\n",
    "df = pd.DataFrame(data)\n",
    "\n",
    "df.shape"
   ]
  },
  {
   "cell_type": "code",
   "execution_count": 10,
   "metadata": {},
   "outputs": [
    {
     "data": {
      "text/html": [
       "<div>\n",
       "<style scoped>\n",
       "    .dataframe tbody tr th:only-of-type {\n",
       "        vertical-align: middle;\n",
       "    }\n",
       "\n",
       "    .dataframe tbody tr th {\n",
       "        vertical-align: top;\n",
       "    }\n",
       "\n",
       "    .dataframe thead th {\n",
       "        text-align: right;\n",
       "    }\n",
       "</style>\n",
       "<table border=\"1\" class=\"dataframe\">\n",
       "  <thead>\n",
       "    <tr style=\"text-align: right;\">\n",
       "      <th></th>\n",
       "      <th>ObservationID</th>\n",
       "      <th>Altitude</th>\n",
       "      <th>Temperature</th>\n",
       "      <th>RelativeHumidity</th>\n",
       "      <th>ContrailPersistence</th>\n",
       "      <th>SkyCoverage</th>\n",
       "    </tr>\n",
       "  </thead>\n",
       "  <tbody>\n",
       "    <tr>\n",
       "      <th>0</th>\n",
       "      <td>1</td>\n",
       "      <td>37270</td>\n",
       "      <td>-23</td>\n",
       "      <td>83</td>\n",
       "      <td>4</td>\n",
       "      <td>49</td>\n",
       "    </tr>\n",
       "    <tr>\n",
       "      <th>1</th>\n",
       "      <td>2</td>\n",
       "      <td>30860</td>\n",
       "      <td>-44</td>\n",
       "      <td>74</td>\n",
       "      <td>33</td>\n",
       "      <td>24</td>\n",
       "    </tr>\n",
       "    <tr>\n",
       "      <th>2</th>\n",
       "      <td>3</td>\n",
       "      <td>35390</td>\n",
       "      <td>-42</td>\n",
       "      <td>91</td>\n",
       "      <td>14</td>\n",
       "      <td>23</td>\n",
       "    </tr>\n",
       "    <tr>\n",
       "      <th>3</th>\n",
       "      <td>4</td>\n",
       "      <td>35191</td>\n",
       "      <td>-43</td>\n",
       "      <td>91</td>\n",
       "      <td>21</td>\n",
       "      <td>12</td>\n",
       "    </tr>\n",
       "    <tr>\n",
       "      <th>4</th>\n",
       "      <td>5</td>\n",
       "      <td>35734</td>\n",
       "      <td>-39</td>\n",
       "      <td>83</td>\n",
       "      <td>48</td>\n",
       "      <td>59</td>\n",
       "    </tr>\n",
       "  </tbody>\n",
       "</table>\n",
       "</div>"
      ],
      "text/plain": [
       "   ObservationID  Altitude  Temperature  RelativeHumidity  \\\n",
       "0              1     37270          -23                83   \n",
       "1              2     30860          -44                74   \n",
       "2              3     35390          -42                91   \n",
       "3              4     35191          -43                91   \n",
       "4              5     35734          -39                83   \n",
       "\n",
       "   ContrailPersistence  SkyCoverage  \n",
       "0                    4           49  \n",
       "1                   33           24  \n",
       "2                   14           23  \n",
       "3                   21           12  \n",
       "4                   48           59  "
      ]
     },
     "execution_count": 10,
     "metadata": {},
     "output_type": "execute_result"
    }
   ],
   "source": [
    "df.head()"
   ]
  },
  {
   "cell_type": "code",
   "execution_count": 11,
   "metadata": {},
   "outputs": [
    {
     "data": {
      "text/html": [
       "<div>\n",
       "<style scoped>\n",
       "    .dataframe tbody tr th:only-of-type {\n",
       "        vertical-align: middle;\n",
       "    }\n",
       "\n",
       "    .dataframe tbody tr th {\n",
       "        vertical-align: top;\n",
       "    }\n",
       "\n",
       "    .dataframe thead th {\n",
       "        text-align: right;\n",
       "    }\n",
       "</style>\n",
       "<table border=\"1\" class=\"dataframe\">\n",
       "  <thead>\n",
       "    <tr style=\"text-align: right;\">\n",
       "      <th></th>\n",
       "      <th>ObservationID</th>\n",
       "      <th>Altitude</th>\n",
       "      <th>Temperature</th>\n",
       "      <th>RelativeHumidity</th>\n",
       "      <th>ContrailPersistence</th>\n",
       "      <th>SkyCoverage</th>\n",
       "    </tr>\n",
       "  </thead>\n",
       "  <tbody>\n",
       "    <tr>\n",
       "      <th>count</th>\n",
       "      <td>100.000000</td>\n",
       "      <td>100.000000</td>\n",
       "      <td>100.000000</td>\n",
       "      <td>100.00000</td>\n",
       "      <td>100.000000</td>\n",
       "      <td>100.000000</td>\n",
       "    </tr>\n",
       "    <tr>\n",
       "      <th>mean</th>\n",
       "      <td>50.500000</td>\n",
       "      <td>35177.220000</td>\n",
       "      <td>-35.450000</td>\n",
       "      <td>80.13000</td>\n",
       "      <td>31.970000</td>\n",
       "      <td>49.500000</td>\n",
       "    </tr>\n",
       "    <tr>\n",
       "      <th>std</th>\n",
       "      <td>29.011492</td>\n",
       "      <td>2869.564753</td>\n",
       "      <td>9.712405</td>\n",
       "      <td>12.24304</td>\n",
       "      <td>15.414446</td>\n",
       "      <td>28.733361</td>\n",
       "    </tr>\n",
       "    <tr>\n",
       "      <th>min</th>\n",
       "      <td>1.000000</td>\n",
       "      <td>30064.000000</td>\n",
       "      <td>-50.000000</td>\n",
       "      <td>60.00000</td>\n",
       "      <td>2.000000</td>\n",
       "      <td>0.000000</td>\n",
       "    </tr>\n",
       "    <tr>\n",
       "      <th>25%</th>\n",
       "      <td>25.750000</td>\n",
       "      <td>32674.250000</td>\n",
       "      <td>-44.000000</td>\n",
       "      <td>70.00000</td>\n",
       "      <td>22.000000</td>\n",
       "      <td>21.750000</td>\n",
       "    </tr>\n",
       "    <tr>\n",
       "      <th>50%</th>\n",
       "      <td>50.500000</td>\n",
       "      <td>35428.000000</td>\n",
       "      <td>-37.000000</td>\n",
       "      <td>81.50000</td>\n",
       "      <td>33.000000</td>\n",
       "      <td>54.000000</td>\n",
       "    </tr>\n",
       "    <tr>\n",
       "      <th>75%</th>\n",
       "      <td>75.250000</td>\n",
       "      <td>37655.250000</td>\n",
       "      <td>-26.000000</td>\n",
       "      <td>91.00000</td>\n",
       "      <td>46.000000</td>\n",
       "      <td>68.000000</td>\n",
       "    </tr>\n",
       "    <tr>\n",
       "      <th>max</th>\n",
       "      <td>100.000000</td>\n",
       "      <td>39998.000000</td>\n",
       "      <td>-21.000000</td>\n",
       "      <td>99.00000</td>\n",
       "      <td>59.000000</td>\n",
       "      <td>98.000000</td>\n",
       "    </tr>\n",
       "  </tbody>\n",
       "</table>\n",
       "</div>"
      ],
      "text/plain": [
       "       ObservationID      Altitude  Temperature  RelativeHumidity  \\\n",
       "count     100.000000    100.000000   100.000000         100.00000   \n",
       "mean       50.500000  35177.220000   -35.450000          80.13000   \n",
       "std        29.011492   2869.564753     9.712405          12.24304   \n",
       "min         1.000000  30064.000000   -50.000000          60.00000   \n",
       "25%        25.750000  32674.250000   -44.000000          70.00000   \n",
       "50%        50.500000  35428.000000   -37.000000          81.50000   \n",
       "75%        75.250000  37655.250000   -26.000000          91.00000   \n",
       "max       100.000000  39998.000000   -21.000000          99.00000   \n",
       "\n",
       "       ContrailPersistence  SkyCoverage  \n",
       "count           100.000000   100.000000  \n",
       "mean             31.970000    49.500000  \n",
       "std              15.414446    28.733361  \n",
       "min               2.000000     0.000000  \n",
       "25%              22.000000    21.750000  \n",
       "50%              33.000000    54.000000  \n",
       "75%              46.000000    68.000000  \n",
       "max              59.000000    98.000000  "
      ]
     },
     "execution_count": 11,
     "metadata": {},
     "output_type": "execute_result"
    }
   ],
   "source": [
    "df.describe()"
   ]
  },
  {
   "cell_type": "markdown",
   "metadata": {},
   "source": [
    "### **Mean**\n",
    "\n",
    "The mean provides an average value for our data, offering insights into the central tendency of each variable.\n"
   ]
  },
  {
   "cell_type": "code",
   "execution_count": 12,
   "metadata": {},
   "outputs": [
    {
     "name": "stdout",
     "output_type": "stream",
     "text": [
      "Mean values:\n"
     ]
    },
    {
     "data": {
      "text/plain": [
       "ObservationID             50.50\n",
       "Altitude               35177.22\n",
       "Temperature              -35.45\n",
       "RelativeHumidity          80.13\n",
       "ContrailPersistence       31.97\n",
       "SkyCoverage               49.50\n",
       "dtype: float64"
      ]
     },
     "execution_count": 12,
     "metadata": {},
     "output_type": "execute_result"
    }
   ],
   "source": [
    "print(\"Mean values:\")\n",
    "df.mean()"
   ]
  },
  {
   "cell_type": "markdown",
   "metadata": {},
   "source": [
    "### **Median**\n",
    "\n",
    "The median gives us the middle value when our data is ordered, which can be more robust to outliers than the mean.\n"
   ]
  },
  {
   "cell_type": "code",
   "execution_count": 13,
   "metadata": {},
   "outputs": [
    {
     "name": "stdout",
     "output_type": "stream",
     "text": [
      "Median values:\n"
     ]
    },
    {
     "data": {
      "text/plain": [
       "ObservationID             50.5\n",
       "Altitude               35428.0\n",
       "Temperature              -37.0\n",
       "RelativeHumidity          81.5\n",
       "ContrailPersistence       33.0\n",
       "SkyCoverage               54.0\n",
       "dtype: float64"
      ]
     },
     "execution_count": 13,
     "metadata": {},
     "output_type": "execute_result"
    }
   ],
   "source": [
    "print(\"Median values:\")\n",
    "df.median()"
   ]
  },
  {
   "cell_type": "markdown",
   "metadata": {},
   "source": [
    "### **Mode**\n",
    "\n",
    "The mode represents the most frequently occurring value in our data, which can be particularly informative for categorical data.\n"
   ]
  },
  {
   "cell_type": "code",
   "execution_count": 14,
   "metadata": {},
   "outputs": [
    {
     "name": "stdout",
     "output_type": "stream",
     "text": [
      "Mode values:\n"
     ]
    },
    {
     "data": {
      "text/plain": [
       "ObservationID              1.0\n",
       "Altitude               30064.0\n",
       "Temperature              -21.0\n",
       "RelativeHumidity          91.0\n",
       "ContrailPersistence       33.0\n",
       "SkyCoverage               57.0\n",
       "Name: 0, dtype: float64"
      ]
     },
     "execution_count": 14,
     "metadata": {},
     "output_type": "execute_result"
    }
   ],
   "source": [
    "# Calculating mode for each column\n",
    "# Since mode can return multiple values, we'll ensure we're handling this appropriately\n",
    "mode_values = df.mode().loc[0]\n",
    "print(\"Mode values:\")\n",
    "mode_values\n"
   ]
  },
  {
   "cell_type": "markdown",
   "metadata": {},
   "source": [
    "### **Variance and Standard Deviation**\n",
    "\n",
    "Variance provides measures of data spread, indicating how much the data varies from the average.\n"
   ]
  },
  {
   "cell_type": "code",
   "execution_count": 15,
   "metadata": {},
   "outputs": [
    {
     "name": "stdout",
     "output_type": "stream",
     "text": [
      "Variance values:\n"
     ]
    },
    {
     "data": {
      "text/plain": [
       "ObservationID          8.416667e+02\n",
       "Altitude               8.234402e+06\n",
       "Temperature            9.433081e+01\n",
       "RelativeHumidity       1.498920e+02\n",
       "ContrailPersistence    2.376052e+02\n",
       "SkyCoverage            8.256061e+02\n",
       "dtype: float64"
      ]
     },
     "execution_count": 15,
     "metadata": {},
     "output_type": "execute_result"
    }
   ],
   "source": [
    "print(\"Variance values:\")\n",
    "df.var()"
   ]
  },
  {
   "cell_type": "markdown",
   "metadata": {},
   "source": [
    "### **Standard Deviation**\n",
    "\n",
    "Standard deviation provides measures of data spread, indicating how much the data varies from the average."
   ]
  },
  {
   "cell_type": "code",
   "execution_count": 16,
   "metadata": {},
   "outputs": [
    {
     "name": "stdout",
     "output_type": "stream",
     "text": [
      "\n",
      "Standard Deviation values:\n"
     ]
    },
    {
     "data": {
      "text/plain": [
       "ObservationID            29.011492\n",
       "Altitude               2869.564753\n",
       "Temperature               9.712405\n",
       "RelativeHumidity         12.243040\n",
       "ContrailPersistence      15.414446\n",
       "SkyCoverage              28.733361\n",
       "dtype: float64"
      ]
     },
     "execution_count": 16,
     "metadata": {},
     "output_type": "execute_result"
    }
   ],
   "source": [
    "print(\"\\nStandard Deviation values:\")\n",
    "df.std()"
   ]
  },
  {
   "cell_type": "markdown",
   "metadata": {},
   "source": [
    "### **Skewness and Kurtosis**\n",
    "\n",
    "Skewness and kurtosis are measures of data shape, indicating asymmetry and the peakedness of the data distribution, respectively.\n"
   ]
  },
  {
   "cell_type": "code",
   "execution_count": 19,
   "metadata": {},
   "outputs": [
    {
     "name": "stdout",
     "output_type": "stream",
     "text": [
      "Skewness values:\n",
      "ObservationID          0.000000\n",
      "Altitude              -0.152978\n",
      "Temperature            0.077802\n",
      "RelativeHumidity      -0.180743\n",
      "ContrailPersistence   -0.262596\n",
      "SkyCoverage           -0.050774\n",
      "dtype: float64\n",
      "\n",
      "Kurtosis values:\n"
     ]
    },
    {
     "data": {
      "text/plain": [
       "ObservationID         -1.200240\n",
       "Altitude              -1.168779\n",
       "Temperature           -1.427832\n",
       "RelativeHumidity      -1.253947\n",
       "ContrailPersistence   -0.797769\n",
       "SkyCoverage           -1.123127\n",
       "dtype: float64"
      ]
     },
     "execution_count": 19,
     "metadata": {},
     "output_type": "execute_result"
    }
   ],
   "source": [
    "from scipy.stats import skew, kurtosis\n",
    "\n",
    "print(\"Skewness values:\")\n",
    "print(df.apply(skew))\n",
    "\n",
    "print(\"\\nKurtosis values:\")\n",
    "df.apply(kurtosis)\n"
   ]
  }
 ],
 "metadata": {
  "kernelspec": {
   "display_name": "Python 3",
   "language": "python",
   "name": "python3"
  },
  "language_info": {
   "codemirror_mode": {
    "name": "ipython",
    "version": 3
   },
   "file_extension": ".py",
   "mimetype": "text/x-python",
   "name": "python",
   "nbconvert_exporter": "python",
   "pygments_lexer": "ipython3",
   "version": "3.12.1"
  }
 },
 "nbformat": 4,
 "nbformat_minor": 4
}
