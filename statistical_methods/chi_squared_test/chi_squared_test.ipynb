{
 "cells": [
  {
   "cell_type": "markdown",
   "metadata": {},
   "source": [
    "# Chi-Squared Test: Test for Independence\n",
    "\n",
    "The Chi-Squared Test is a statistical method used to determine whether there is a significant association between two categorical variables. It's particularly useful in various business scenarios to understand the relationships and dependencies between different factors, facilitating informed decision-making and strategic planning.\n",
    "\n",
    "#### Formula for Chi-Squared Test\n",
    "\n",
    "The Chi-Squared Test statistic is calculated using the formula:\n",
    "\n",
    "$$\n",
    "\\chi^2 = \\sum{\\frac{(O_i - E_i)^2}{E_i}}\n",
    "$$\n",
    "\n",
    "where:\n",
    "\n",
    "- $\\chi^2$ is the Chi-Squared statistic.\n",
    "- $O_i$ is the observed frequency count for the $i^{th}$ category.\n",
    "- $E_i$ is the expected frequency count for the $i^{th}$ category, calculated under the null hypothesis that there is no association between the variables.\n",
    "\n",
    "The degrees of freedom (df) for the test are calculated as:\n",
    "\n",
    "$$\n",
    "df = (r - 1) \\times (c - 1)\n",
    "$$\n",
    "\n",
    "where:\n",
    "\n",
    "- $r$ is the number of rows in the contingency table.\n",
    "- $c$ is the number of columns in the contingency table.\n",
    "\n",
    "The p-value is then determined by comparing the calculated $\\chi^2$ statistic to the Chi-Squared distribution with the corresponding degrees of freedom.\n",
    "\n",
    "\n",
    "#### Business Scenario: Customer Purchase Behavior\n",
    "\n",
    "In this scenario, we explore the purchase behavior of customers across different segments and channels to enhance marketing strategies, optimize product placement, and improve overall customer engagement.\n",
    "\n",
    "##### Objective\n",
    "\n",
    "The objective is to analyze the relationship between the choice of purchase channel (Online, In-Store, Mobile App) and customer segment (New Customer, Returning Customer, VIP Customer) to tailor marketing efforts, adjust product placement, and strategize customer engagement approaches more effectively.\n",
    "\n",
    "#### Data Description\n",
    "\n",
    "The dataset simulates over 2000 transactions, including several categorical variables:\n",
    "\n",
    "- **Product Category**: Categories such as Electronics, Apparel, Home & Kitchen, etc.\n",
    "- **Customer Segment**: Categories including New Customer, Returning Customer, VIP Customer.\n",
    "- **Purchase Channel**: How the purchase was made, Online, In-Store, Mobile App.\n",
    "- **Time of Purchase**: When the purchase was made, Morning, Afternoon, Evening.\n",
    "- **Region**: Geographic region of the purchase, North, South, East, West.\n",
    "\n",
    "This dataset covers transactions made within one fiscal year across various locations and platforms.\n",
    "\n",
    "#### Business Problem\n",
    "\n",
    "The aim is to determine whether the choice of purchase channel is independent of the customer segment. This analysis will help optimize resource allocation, marketing campaigns, and customer service across different channels and segments.\n",
    "\n",
    "#### Assumption for Chi-Squared Test\n",
    "\n",
    "1. Observations are independent of each other.\n",
    "2. Each category contains an expected frequency count of at least 5.\n",
    "\n",
    "#### Python Code to Simulate Data and Perform Chi-Squared Test\n"
   ]
  },
  {
   "cell_type": "code",
   "execution_count": 5,
   "metadata": {},
   "outputs": [
    {
     "name": "stdout",
     "output_type": "stream",
     "text": [
      "Chi-Squared Statistic: 5.3875, P-Value: 0.2498\n"
     ]
    }
   ],
   "source": [
    "import pandas as pd\n",
    "import numpy as np\n",
    "from scipy.stats import chi2_contingency\n",
    "\n",
    "# Simulate the dataset\n",
    "np.random.seed(0)  # For reproducibility\n",
    "data = {\n",
    "    'Product Category': np.random.choice(['Electronics', 'Apparel', 'Home & Kitchen'], size=2000, p=[0.3, 0.4, 0.3]),\n",
    "    'Customer Segment': np.random.choice(['New Customer', 'Returning Customer', 'VIP Customer'], size=2000, p=[0.5, 0.3, 0.2]),\n",
    "    'Purchase Channel': np.random.choice(['Online', 'In-Store', 'Mobile App'], size=2000, p=[0.4, 0.4, 0.2]),\n",
    "    'Time of Purchase': np.random.choice(['Morning', 'Afternoon', 'Evening'], size=2000, p=[0.3, 0.4, 0.3]),\n",
    "    'Region': np.random.choice(['North', 'South', 'East', 'West'], size=2000, p=[0.25, 0.25, 0.25, 0.25])\n",
    "}\n",
    "\n",
    "df = pd.DataFrame(data)\n",
    "\n",
    "# Prepare a contingency table\n",
    "contingency_table = pd.crosstab(df['Purchase Channel'], df['Customer Segment'])\n",
    "\n",
    "# Perform the Chi-Squared Test\n",
    "chi2, p_value, dof, expected = chi2_contingency(contingency_table)\n",
    "\n",
    "print(f'Chi-Squared Statistic: {chi2:.4f}, P-Value: {p_value:.4f}')\n"
   ]
  },
  {
   "cell_type": "markdown",
   "metadata": {},
   "source": [
    "#### Interpretation of Chi-Squared Test Results\n",
    "\n",
    "The results of the Chi-Squared Test are as follows:\n",
    "\n",
    "- **Chi-Squared Statistic:** 5.3875\n",
    "- **P-Value:** 0.2498\n",
    "\n",
    "Given these results, the interpretation is straightforward:\n",
    "\n",
    "The p-value of 0.2498 is greater than the common alpha level of 0.05, which suggests that we do not have enough evidence to reject the null hypothesis. In the context of our business scenario, this implies that there is no significant association between the choice of purchase channel (Online, In-Store, Mobile App) and the customer segment (New Customer, Returning Customer, VIP Customer). \n",
    "\n",
    "In practical terms, this means that the marketing teams and strategists can infer that the preference for a particular purchase channel does not significantly differ among the different customer segments. This could suggest that factors other than the customer segment may have a more substantial influence on the choice of purchase channel.\n",
    "\n",
    "However, it's important to remember that the lack of a statistically significant association does not imply that there is no relationship at all between these variables, just that any relationship that does exist could not be detected as statistically significant with this test and this dataset.\n",
    "\n",
    "As always, these results should be considered in conjunction with other analyses and understood within the broader context of marketing strategies, customer behavior research, and business goals."
   ]
  },
  {
   "cell_type": "markdown",
   "metadata": {},
   "source": [
    "# Chi-Squared Test: Test for Goodness-of-Fit"
   ]
  },
  {
   "cell_type": "markdown",
   "metadata": {},
   "source": [
    "# Chi-Squared Test: Test for Homogeneity"
   ]
  }
 ],
 "metadata": {
  "kernelspec": {
   "display_name": "Python 3",
   "language": "python",
   "name": "python3"
  },
  "language_info": {
   "codemirror_mode": {
    "name": "ipython",
    "version": 3
   },
   "file_extension": ".py",
   "mimetype": "text/x-python",
   "name": "python",
   "nbconvert_exporter": "python",
   "pygments_lexer": "ipython3",
   "version": "3.12.1"
  }
 },
 "nbformat": 4,
 "nbformat_minor": 4
}
