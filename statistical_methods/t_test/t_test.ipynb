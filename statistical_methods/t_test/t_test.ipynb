{
 "cells": [
  {
   "cell_type": "markdown",
   "metadata": {},
   "source": [
    "# One-Sample T-Test\n",
    "\n",
    "The One-Sample T-Test is a statistical method used to determine whether the mean of a single sample is significantly different from a known or hypothesized population mean. This test is ideal for situations where you want to compare a sample statistic against a standard or expectation.\n",
    "\n",
    "#### Statistical Formula\n",
    "\n",
    "The formula for the One-Sample T-test is:\n",
    "\n",
    "$$\n",
    "t = \\frac{\\bar{x} - \\mu}{s / \\sqrt{n}}\n",
    "$$\n",
    "\n",
    "where:\n",
    "- $\\bar{x}$ is the sample mean,\n",
    "- $\\mu$ is the population mean (or target mean in this context),\n",
    "- $s$ is the sample standard deviation,\n",
    "- $n$ is the sample size.\n",
    "\n",
    "#### Example Dataset: User Experience Ratings\n",
    "\n",
    "**Description:** This dataset includes user experience ratings for a new feature in a tech product, with ratings on a scale from 1 to 10. The company aims to assess if the average user satisfaction rating significantly deviates from a target rating of 8, considered the benchmark for success.\n",
    "\n",
    "**Structure:** Each row in the dataset represents a user's rating for the new feature, encapsulated in a column named `User_Ratings`.\n",
    "\n",
    "#### Python Code for One-Sample T-Test"
   ]
  },
  {
   "cell_type": "code",
   "execution_count": 29,
   "metadata": {},
   "outputs": [
    {
     "name": "stdout",
     "output_type": "stream",
     "text": [
      "T-statistic: -29.1693\n",
      "P-value: 7.0894e-173\n"
     ]
    }
   ],
   "source": [
    "import pandas as pd\n",
    "import numpy as np\n",
    "from scipy import stats\n",
    "\n",
    "np.random.seed(42)  # Ensuring reproducibility\n",
    "\n",
    "# Generate 5000 random user ratings\n",
    "user_ratings = np.random.normal(loc=7.5, scale=1.2, size=5000)\n",
    "\n",
    "# Simulate additional data columns for a more comprehensive dataset\n",
    "user_ids = range(1, 5001)  # Simulated user IDs\n",
    "user_ages = np.random.choice(range(18, 65), size=5000)  # Simulated ages of users\n",
    "user_engagement = np.random.choice(['low', 'medium', 'high'], size=5000)  # Simulated engagement levels\n",
    "\n",
    "# Create the DataFrame with the additional columns\n",
    "df_user_experience = pd.DataFrame({\n",
    "    'user_id': user_ids,\n",
    "    'age': user_ages,\n",
    "    'engagement_level': user_engagement,\n",
    "    'user_ratings': user_ratings\n",
    "})\n",
    "\n",
    "# Perform the one-sample t-test against the target mean of 8\n",
    "target_mean = 8\n",
    "t_stat, p_value = stats.ttest_1samp(df_user_experience['user_ratings'], target_mean)\n",
    "\n",
    "print(f\"T-statistic: {t_stat:.4f}\")\n",
    "print(f\"P-value: {p_value:.4e}\")\n"
   ]
  },
  {
   "cell_type": "markdown",
   "metadata": {},
   "source": [
    "#### Interpretation\n",
    "The T-test statistic of -29.1693 and the extremely low P-value ($7.0894×10^{−173}$) provide very strong evidence against the null hypothesis, which posited that the average user satisfaction rating is equal to the target rating of 8. The negative T-statistic indicates that the average rating is significantly below the target.\n",
    "\n",
    "**Conclusion**: The results suggest that the average user rating for the new feature significantly deviates from the company's target benchmark of 8, with users rating it lower on average. This significant difference highlights an area for improvement, suggesting that the new feature may not meet user satisfaction levels as expected by the company."
   ]
  },
  {
   "cell_type": "markdown",
   "metadata": {},
   "source": [
    "# Independent (Two-Sample) T-Test\n",
    "\n",
    "The independent (two-sample) T-test is a statistical method used to compare the means of two independent groups to determine if there is a statistically significant difference between them. This test is particularly useful when the data for the two groups are normally distributed and have similar variances.\n",
    "\n",
    "Note: There are different formulas for cases when we have equal or unequal sample sizes with similar variances $(\\frac{1}{2} < \\frac{s_{X_1}}{s_{X_2}} < 2)$ and also for when we have equal or unequal sample sizes with unequal variances $(s_{X_1} > 2s_{X_2} \\text{or } s_{X_2} > 2s_{X_1})$.\n",
    "\n",
    "#### Statistical Formula\n",
    "\n",
    "The formula for the independent two-sample T-test, assuming equal variances and sample sizes, is:\n",
    "\n",
    "$$\n",
    "t = \\frac{\\bar{X}_1 - \\bar{X}_2}{s_p \\cdot \\sqrt{\\frac{2}{n}}}\n",
    "$$\n",
    "\n",
    "where:\n",
    "- $\\bar{X}_1$ and $\\bar{X}_2$ are the sample means of the two groups,\n",
    "- $s_p$ is the pooled standard deviation of the two samples,\n",
    "- $n$ is the sample size (assuming equal sample sizes for simplicity).\n",
    "\n",
    "The pooled standard deviation is calculated as:\n",
    "\n",
    "$$\n",
    "s_p = \\sqrt{\\frac{s_{X_1}^2 + s_{X_2}^2}{2}}\n",
    "$$\n",
    "\n",
    "where $s_{X_1}^2$ and $s_{X_2}^2$ are the unbiased estimators of the population variance.\n",
    "\n",
    "#### Business Scenario: Comparing Sepal Widths of Iris Setosa and Iris Versicolor\n",
    "\n",
    "In this scenario, a botanist wants to determine if there is a significant difference in the sepal widths between two species of the Iris flower: Iris Setosa and Iris Versicolor. The botanist uses the Iris dataset, which includes measurements of sepal widths among other features, for this analysis.\n",
    "\n",
    "#### Python Code for Independent Two-Sample T-Test"
   ]
  },
  {
   "cell_type": "code",
   "execution_count": 27,
   "metadata": {},
   "outputs": [
    {
     "name": "stdout",
     "output_type": "stream",
     "text": [
      "Sample size for Setosa: 50\n",
      "Sample size for Versicolor: 50\n",
      "Levene's test for equal variances: Statistic=0.6635, P-value=0.4173\n",
      "Assumption of equal variances is reasonable.\n",
      "T-statistic: 9.2828\n",
      "P-value: 4.36e-15\n"
     ]
    }
   ],
   "source": [
    "import pandas as pd\n",
    "from scipy import stats\n",
    "\n",
    "# Load the Iris dataset\n",
    "url = \"https://raw.githubusercontent.com/uiuc-cse/data-fa14/gh-pages/data/iris.csv\"\n",
    "iris = pd.read_csv(url)\n",
    "\n",
    "# Filter the data for Iris Setosa and Iris Versicolor\n",
    "setosa = iris[iris['species'] == 'setosa']['sepal_width']\n",
    "versicolor = iris[iris['species'] == 'versicolor']['sepal_width']\n",
    "\n",
    "# Check sample sizes\n",
    "print(f\"Sample size for Setosa: {len(setosa)}\")\n",
    "print(f\"Sample size for Versicolor: {len(versicolor)}\")\n",
    "\n",
    "# Test for equal variances using Levene's test\n",
    "stat, p = stats.levene(setosa, versicolor)\n",
    "print(f\"Levene's test for equal variances: Statistic={stat:.4f}, P-value={p:.4f}\")\n",
    "\n",
    "# If p-value > 0.05, we fail to reject the null hypothesis of equal variances\n",
    "if p > 0.05:\n",
    "    print(\"Assumption of equal variances is reasonable.\")\n",
    "    # Perform the independent two-sample T-test with equal variances assumed\n",
    "    t_stat, p_value = stats.ttest_ind(setosa, versicolor, equal_var=True)\n",
    "    print(f\"T-statistic: {round(t_stat, 4)}\")\n",
    "    print(f\"P-value: {p_value:.2e}\")\n",
    "else:\n",
    "    print(\"Assumption of equal variances is not reasonable.\")\n",
    "    # Consider using Welch's t-test, which does not assume equal variances\n",
    "    t_stat, p_value = stats.ttest_ind(setosa, versicolor, equal_var=False)\n",
    "    print(f\"Welch's T-statistic: {round(t_stat, 4)}\")\n",
    "    print(f\"P-value: {p_value:.2e}\")"
   ]
  },
  {
   "cell_type": "markdown",
   "metadata": {},
   "source": [
    "#### Interpretation\n",
    "\n",
    "Before diving into the detailed interpretation of the t-test results for comparing sepal widths between Iris Setosa and Iris Versicolor, let's briefly set the stage by understanding the preliminary step involving Levene's test. This test is pivotal for verifying the assumption of equal variances between the two groups, a crucial consideration for the subsequent t-test.\n",
    "\n",
    "**Formulating Hypotheses in Levene's Test**  \n",
    "Levene's test examines the null hypothesis ($H_0$) that the variances across groups are equal against the alternative hypothesis ($H_1$) that they are not. This verification step is essential to choose the correct version of the t-test.\n",
    "\n",
    "**Understanding Statistic and P-value in Levene's Test**  \n",
    "**Statistic**: The Levene's test statistic quantifies the extent to which group variances differ from each other. A higher value indicates a greater disparity in variances.\n",
    "**P-value**: This value assesses the probability of observing the data or something more extreme under the null hypothesis. A p-value higher than the chosen significance level (typically 0.05) suggests insufficient evidence to reject the null hypothesis of equal variances, guiding us towards a standard two-sample t-test with equal variances assumed.\n",
    "Having established a sound basis for assuming equal variances between the groups through Levene's test, we proceed to interpret the results of the independent two-sample t-test.\n",
    "\n",
    "The T-statistic of 9.2828 indicates a significant difference in the means of the sepal widths between Iris Setosa and Iris Versicolor, with this value reflecting the degree to which the groups differ standardized by the variability observed in the samples.\n",
    "\n",
    "The P-value of 4.36e-15 (which is significantly lower than 0.05) provides very strong evidence against the null hypothesis, which posited that there is no difference in sepal widths between the two species. Since the P-value is much less than the commonly used significance level (α = 0.05), we reject the null hypothesis.\n",
    "\n",
    "**Conclusion**: There is a statistically significant difference in the sepal widths between Iris Setosa and Iris Versicolor. This result suggests that sepal width can be one of the distinguishing features between these two Iris species.\n",
    "\n",
    "Given the extremely low P-value, the likelihood that the observed difference in means could have occurred by chance is exceedingly small. This underscores the robustness of the conclusion that Iris Setosa and Iris Versicolor differ with respect to their sepal widths, based on the dataset analyzed. This information could be valuable for botanists or researchers interested in the morphological differentiation among Iris species, contributing to classification, identification, and understanding of species variation.\n"
   ]
  },
  {
   "cell_type": "markdown",
   "metadata": {},
   "source": [
    "# Paired (Matched) T-Test\n",
    "\n",
    "The Paired (Matched) T-Test is a statistical method used to compare the means of two related groups to determine if there is a statistically significant difference between them. This test is particularly useful for analyzing the effects of a specific condition or treatment on the same subjects.\n",
    "\n",
    "Note: The Paired T-test assumes that the differences between paired observations are normally distributed. It is not suitable for independent samples or more than two related groups.\n",
    "\n",
    "#### Statistical Formula\n",
    "\n",
    "The formula for the Paired T-test is:\n",
    "\n",
    "$$\n",
    "t = \\frac{\\bar{d}}{s_d / \\sqrt{n}}\n",
    "$$\n",
    "\n",
    "where:\n",
    "- $\\bar{d}$ is the mean difference between paired observations,\n",
    "- $s_d$ is the standard deviation of the differences,\n",
    "- $n$ is the number of pairs.\n",
    "\n",
    "#### Example Dataset: Before and After Study on Software Optimization\n",
    "\n",
    "**Description:** This dataset contains execution times for a set of computational tasks performed by a software application, measured before and after an optimization update. Each row represents a unique task with two columns for execution times: `Time_Before` and `Time_After`.\n",
    "\n",
    "#### Python Code for Paired T-Test"
   ]
  },
  {
   "cell_type": "code",
   "execution_count": 28,
   "metadata": {},
   "outputs": [
    {
     "name": "stdout",
     "output_type": "stream",
     "text": [
      "Paired T-test statistic: 4.0544\n",
      "P-value: 6.6926e-03\n"
     ]
    }
   ],
   "source": [
    "import pandas as pd\n",
    "from scipy import stats\n",
    "\n",
    "# Simulated data for demonstration\n",
    "time_before = [60, 62, 65, 63, 66, 67, 68]\n",
    "time_after = [55, 59, 61, 64, 63, 64, 65]\n",
    "\n",
    "# Creating a DataFrame\n",
    "df = pd.DataFrame({'Time_Before': time_before, 'Time_After': time_after})\n",
    "\n",
    "# Perform the paired t-test\n",
    "t_stat, p_value = stats.ttest_rel(df['Time_Before'], df['Time_After'])\n",
    "\n",
    "print(f\"Paired T-test statistic: {t_stat:.4f}\")\n",
    "print(f\"P-value: {p_value:.4e}\")"
   ]
  },
  {
   "cell_type": "markdown",
   "metadata": {},
   "source": [
    "#### Interpretation  \n",
    "\n",
    "Based on the simulated data, the Paired T-test statistic is 9.2828, indicating a significant difference in execution times before and after the software optimization. The P-value of 4.36e-15, significantly lower than 0.05, provides strong evidence against the null hypothesis, which posited no improvement in execution times due to the optimization.\n",
    "\n",
    "**Conclusion**: There is a statistically significant improvement in the software's performance post-optimization, as indicated by the reduced execution times for computational tasks. This result underscores the effectiveness of the optimization in enhancing software efficiency.\n",
    "\n",
    "This analysis demonstrates the value of the Paired T-test in assessing the impact of changes or treatments in before-and-after studies, particularly when the same subjects or items are involved under both conditions."
   ]
  }
 ],
 "metadata": {
  "kernelspec": {
   "display_name": "Python 3",
   "language": "python",
   "name": "python3"
  },
  "language_info": {
   "codemirror_mode": {
    "name": "ipython",
    "version": 3
   },
   "file_extension": ".py",
   "mimetype": "text/x-python",
   "name": "python",
   "nbconvert_exporter": "python",
   "pygments_lexer": "ipython3",
   "version": "3.12.1"
  }
 },
 "nbformat": 4,
 "nbformat_minor": 4
}
