{
 "cells": [
  {
   "cell_type": "markdown",
   "metadata": {},
   "source": [
    "# Independent (Two-Sample) T-Test\n",
    "\n",
    "The independent (two-sample) T-test is a statistical method used to compare the means of two independent groups to determine if there is a statistically significant difference between them. This test is particularly useful when the data for the two groups are normally distributed and have similar variances.\n",
    "\n",
    "#### Statistical Formula\n",
    "\n",
    "The formula for the independent two-sample T-test, assuming equal variances, is:\n",
    "\n",
    "$$\n",
    "t = \\frac{\\bar{X}_1 - \\bar{X}_2}{s_p \\cdot \\sqrt{\\frac{2}{n}}}\n",
    "$$\n",
    "\n",
    "where:\n",
    "- $\\bar{X}_1$ and $\\bar{X}_2$ are the sample means of the two groups,\n",
    "- $s_p$ is the pooled standard deviation of the two samples,\n",
    "- $n$ is the sample size (assuming equal sample sizes for simplicity).\n",
    "\n",
    "The pooled standard deviation is calculated as:\n",
    "\n",
    "$$\n",
    "s_p = \\sqrt{\\frac{s_1^2 + s_2^2}{2}}\n",
    "$$\n",
    "\n",
    "where $s_1^2$ and $s_2^2$ are the variances of the two samples.\n",
    "\n",
    "#### Business Scenario: Comparing Sepal Widths of Iris Setosa and Iris Versicolor\n",
    "\n",
    "In this scenario, a botanist wants to determine if there is a significant difference in the sepal widths between two species of the Iris flower: Iris Setosa and Iris Versicolor. The botanist uses the Iris dataset, which includes measurements of sepal widths among other features, for this analysis.\n",
    "\n",
    "#### Python Code for Independent Two-Sample T-Test"
   ]
  },
  {
   "cell_type": "code",
   "execution_count": 6,
   "metadata": {},
   "outputs": [
    {
     "name": "stdout",
     "output_type": "stream",
     "text": [
      "T-statistic: 9.2828\n",
      "P-value: 4.36e-15\n"
     ]
    }
   ],
   "source": [
    "import pandas as pd\n",
    "from scipy import stats\n",
    "\n",
    "# Load the Iris dataset\n",
    "url = \"https://raw.githubusercontent.com/uiuc-cse/data-fa14/gh-pages/data/iris.csv\"\n",
    "iris = pd.read_csv(url)\n",
    "\n",
    "# Filter the data for Iris Setosa and Iris Versicolor\n",
    "setosa = iris[iris['species'] == 'setosa']['sepal_width']\n",
    "versicolor = iris[iris['species'] == 'versicolor']['sepal_width']\n",
    "\n",
    "# Perform the independent two-sample T-test\n",
    "t_stat, p_value = stats.ttest_ind(setosa, versicolor, equal_var=True)\n",
    "\n",
    "print(f\"T-statistic: {round(t_stat, 4)}\")\n",
    "print(f\"P-value: {p_value:.2e}\")"
   ]
  },
  {
   "cell_type": "markdown",
   "metadata": {},
   "source": [
    "#### Interpretation\n",
    "\n",
    "The T-statistic of 9.2828 indicates a significant difference in the means of the sepal widths between Iris Setosa and Iris Versicolor, with this value reflecting the degree to which the groups differ standardized by the variability observed in the samples.\n",
    "\n",
    "The P-value of 4.36e-15 (which is significantly lower than 0.05) provides very strong evidence against the null hypothesis, which posited that there is no difference in sepal widths between the two species. Since the P-value is much less than the commonly used significance level (α = 0.05), we reject the null hypothesis.\n",
    "\n",
    "**Conclusion**: There is a statistically significant difference in the sepal widths between Iris Setosa and Iris Versicolor. This result suggests that sepal width can be one of the distinguishing features between these two Iris species.\n",
    "\n",
    "Given the extremely low P-value, the likelihood that the observed difference in means could have occurred by chance is exceedingly small. This underscores the robustness of the conclusion that Iris Setosa and Iris Versicolor differ with respect to their sepal widths, based on the dataset analyzed. This information could be valuable for botanists or researchers interested in the morphological differentiation among Iris species, contributing to classification, identification, and understanding of species variation.\n"
   ]
  },
  {
   "cell_type": "markdown",
   "metadata": {},
   "source": []
  }
 ],
 "metadata": {
  "kernelspec": {
   "display_name": "Python 3",
   "language": "python",
   "name": "python3"
  },
  "language_info": {
   "codemirror_mode": {
    "name": "ipython",
    "version": 3
   },
   "file_extension": ".py",
   "mimetype": "text/x-python",
   "name": "python",
   "nbconvert_exporter": "python",
   "pygments_lexer": "ipython3",
   "version": "3.12.1"
  }
 },
 "nbformat": 4,
 "nbformat_minor": 4
}
