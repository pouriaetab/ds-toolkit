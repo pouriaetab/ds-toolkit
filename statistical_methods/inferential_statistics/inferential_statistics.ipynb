{
 "cells": [
  {
   "cell_type": "markdown",
   "metadata": {},
   "source": [
    "# Table of Contents\n",
    "\n",
    "1. [Estimation (Point)](#Estimation-(Point))\n",
    "2. [Estimation (Interval)](#Estimation-(Interval))\n",
    "3. [Hypothesis Testing](#Hypothesis-Testing)"
   ]
  },
  {
   "cell_type": "markdown",
   "metadata": {},
   "source": [
    "# Estimation (Point) in Inferential Statistics\n",
    "\n",
    "Estimation is a fundamental concept in inferential statistics, used to make predictions or inferences about a population based on sample data. Point estimation involves using sample data to calculate a single value (known as a point estimate) that serves as the best estimate of an unknown population parameter (e.g., population mean, population proportion).\n",
    "\n",
    "#### Mathematical Formula\n",
    "\n",
    "The formula for estimating the population mean ($\\mu$) using the sample mean ($\\bar{x}$) is:\n",
    "\n",
    "$$\\bar{x} = \\frac{1}{n}\\sum_{i=1}^{n}x_i$$\n",
    "\n",
    "where $n$ is the sample size, and $x_i$ are the individual sample values.\n",
    "\n",
    "#### Explanation of Steps\n",
    "\n",
    "1. **Collect a Sample**: Randomly select a sample of $n$ observations from the population.\n",
    "2. **Calculate the Sample Mean**: Use the sample data to calculate the sample mean ($\\bar{x}$), which serves as the point estimate of the population mean ($\\mu$).\n",
    "3. **Use the Sample Mean as the Point Estimate**: The calculated sample mean is used as the best estimate of the population mean.\n",
    "\n",
    "#### Business Scenario: Estimating Average Daily Active Users in a Software Application\n",
    "\n",
    "Imagine you're a data analyst at a software technology company, and you're tasked with estimating the average daily active users (DAU) for a new application. The company has launched the app recently, and you want to estimate the average DAU to forecast server load and guide marketing strategies.\n",
    "\n",
    "To accomplish this, you decide to collect data on the daily active users for a sample of 30 days after the app's launch.\n",
    "\n",
    "#### Python Code Example\n",
    "\n",
    "The following Python code demonstrates how to perform point estimation for this scenario using a randomly created pandas DataFrame to simulate the sample data of daily active users.\n"
   ]
  },
  {
   "cell_type": "code",
   "execution_count": 21,
   "metadata": {},
   "outputs": [
    {
     "name": "stdout",
     "output_type": "stream",
     "text": [
      "The point estimate for the average daily active users is: 3048 users.\n"
     ]
    }
   ],
   "source": [
    "import pandas as pd\n",
    "import numpy as np\n",
    "\n",
    "# Simulate sample data for daily active users (DAU)\n",
    "np.random.seed(42)\n",
    "sample_size = 30\n",
    "dau_sample = np.random.randint(1000, 5000, size=sample_size)\n",
    "\n",
    "# Create a pandas DataFrame\n",
    "df = pd.DataFrame(dau_sample, columns=['daily_active_users'])\n",
    "\n",
    "# Calculate the sample mean (point estimate for the average DAU)\n",
    "sample_mean = df['daily_active_users'].mean().astype(int)\n",
    "\n",
    "print(f\"The point estimate for the average daily active users is: {sample_mean} users.\")"
   ]
  },
  {
   "cell_type": "markdown",
   "metadata": {},
   "source": [
    "#### Interpretation\n",
    "\n",
    "The calculated sample mean provides us with a point estimate of the average daily active users (DAU) for the new application. This estimate can be used to make informed decisions about server capacity planning and to tailor marketing strategies to engage more users.\n",
    "\n",
    "By using point estimation, we can derive meaningful insights from sample data, allowing for efficient and informed decision-making in business contexts, especially in the dynamic field of software technology.\n"
   ]
  },
  {
   "cell_type": "markdown",
   "metadata": {},
   "source": [
    "# Estimation (Interval) in Inferential Statistics\n",
    "\n",
    "Interval estimation provides a range (interval) of values within which the parameter is expected to lie. This interval is calculated from the sample data and provides an estimate of the parameter with a certain level of confidence (e.g., 95%).\n",
    "\n",
    "#### Mathematical Formula\n",
    "\n",
    "The formula for a confidence interval for a population mean, assuming a large sample size or known population standard deviation, is:\n",
    "\n",
    "$$\\bar{x} \\pm Z \\times \\frac{\\sigma}{\\sqrt{n}}$$\n",
    "\n",
    "where:\n",
    "- $\\bar{x}$ is the sample mean,\n",
    "- $Z$ is the Z-score corresponding to the desired confidence level (e.g., 1.96 for 95% confidence),\n",
    "- $\\sigma$ is the population standard deviation (or an estimate from the sample if the population standard deviation is unknown),\n",
    "- $n$ is the sample size.\n",
    "\n",
    "#### Business Scenario: Estimating Average Daily Active Users with a Confidence Interval\n",
    "\n",
    "Given the same business scenario as before, we now wish to provide an interval estimate for the average DAU to understand the range within which the true average DAU likely falls.\n",
    "\n",
    "#### Python Code Example\n"
   ]
  },
  {
   "cell_type": "code",
   "execution_count": 27,
   "metadata": {},
   "outputs": [
    {
     "name": "stdout",
     "output_type": "stream",
     "text": [
      "The 95% confidence interval for the average daily active users is: (2643, 3452)\n"
     ]
    }
   ],
   "source": [
    "from scipy.stats import norm\n",
    "import math\n",
    "\n",
    "# Assuming a 95% confidence level\n",
    "z_score = norm.ppf(0.975) # Two-tailed Z-score for 95% confidence\n",
    "std_dev = df['daily_active_users'].std() # Sample standard deviation\n",
    "margin_of_error = z_score * (std_dev / np.sqrt(sample_size))\n",
    "\n",
    "confidence_interval = (sample_mean - margin_of_error, sample_mean + margin_of_error)\n",
    "floored_confidence_interval = (math.floor(confidence_interval[0]), math.floor(confidence_interval[1]))\n",
    "\n",
    "print(f\"The 95% confidence interval for the average daily active users is: {floored_confidence_interval}\")"
   ]
  },
  {
   "cell_type": "markdown",
   "metadata": {},
   "source": [
    "#### Interpretation\n",
    "\n",
    "This confidence interval provides a range within which we are 95% confident that the true average DAU lies. It gives us not just an estimate but also an idea of the precision of our estimate and the variability in the sample data."
   ]
  },
  {
   "cell_type": "markdown",
   "metadata": {},
   "source": [
    "# Hypothesis Testing\n",
    "\n",
    "\n",
    "Hypothesis testing is a method of making decisions using data, whether from a controlled experiment or an observational study."
   ]
  }
 ],
 "metadata": {
  "kernelspec": {
   "display_name": "Python 3",
   "language": "python",
   "name": "python3"
  },
  "language_info": {
   "codemirror_mode": {
    "name": "ipython",
    "version": 3
   },
   "file_extension": ".py",
   "mimetype": "text/x-python",
   "name": "python",
   "nbconvert_exporter": "python",
   "pygments_lexer": "ipython3",
   "version": "3.12.1"
  }
 },
 "nbformat": 4,
 "nbformat_minor": 4
}
