{
 "cells": [
  {
   "cell_type": "markdown",
   "metadata": {},
   "source": [
    "# Fisher's Exact Test\n",
    "\n",
    "Fisher's Exact Test is a statistical method used to determine if there are nonrandom associations between two categorical variables. This test is particularly valuable in scenarios involving small sample sizes and 2x2 contingency tables, where other tests like the Chi-Squared Test might not be reliable.\n",
    "\n",
    "#### Business Scenario: Email Marketing Campaign Effectiveness\n",
    "\n",
    "#### Data Set Description\n",
    "\n",
    "A small business aims to compare the effectiveness of two different email marketing campaigns (A and B) concerning their response rates. Given budget constraints, only a limited number of emails can be sent, resulting in a small dataset. The outcomes are categorized into \"Response\" and \"No Response.\"\n",
    "\n",
    "The data is summarized in a 2x2 contingency table:\n",
    "\n",
    "|             | Response | No Response |\n",
    "|-------------|----------|-------------|\n",
    "| **Campaign A** | x        | y           |\n",
    "| **Campaign B** | z        | w           |\n",
    "\n",
    "Here, x, y, z, and w are the counts of outcomes for each combination of campaign type and response.\n",
    "\n",
    "#### Business Problem\n",
    "\n",
    "The business needs to identify which email campaign is more effective, specifically determining if the difference in response rates between Campaign A and Campaign B is statistically significant, especially considering the small sample size.\n",
    "\n",
    "#### Applying Fisher's Exact Test\n",
    "\n",
    "Fisher's Exact Test is the ideal choice for this scenario, given the binary nature of both the independent variable (Campaign Type) and the dependent variable (Response). The test assesses the exact likelihood of observing the given distribution of responses, under the null hypothesis that both campaigns are equally effective.\n",
    "\n",
    "#### Steps:\n",
    "\n",
    "1. **Construct the 2x2 Contingency Table:** Organize observed counts of responses and no responses for Campaigns A and B.\n",
    "2. **Apply Fisher's Exact Test:** Calculate the probability of observing the given distribution of responses, assuming no difference in campaign effectiveness.\n",
    "3. **Interpret the Results:** A p-value less than 0.05 typically indicates a statistically significant difference in campaign effectiveness, suggesting one campaign elicited a higher response rate than the other.\n"
   ]
  },
  {
   "cell_type": "code",
   "execution_count": 3,
   "metadata": {},
   "outputs": [
    {
     "name": "stdout",
     "output_type": "stream",
     "text": [
      "Odds Ratio: 0.5238, P-Value: 0.04053\n"
     ]
    }
   ],
   "source": [
    "from scipy.stats import fisher_exact\n",
    "import numpy as np\n",
    "\n",
    "# Simulated data for the 2x2 contingency table\n",
    "contingency_table = np.array([\n",
    "    [30, 70],  # Campaign A: 30 responses, 70 no responses\n",
    "    [45, 55]   # Campaign B: 45 responses, 55 no responses\n",
    "])\n",
    "\n",
    "# Applying Fisher's Exact Test\n",
    "odds_ratio, p_value = fisher_exact(contingency_table)\n",
    "\n",
    "print(f'Odds Ratio: {odds_ratio:.4f}, P-Value: {p_value:.4}')"
   ]
  },
  {
   "cell_type": "markdown",
   "metadata": {},
   "source": [
    "#### Interpretation of Fisher's Exact Test Results\n",
    "\n",
    "The Fisher's Exact Test applied to the email marketing campaign effectiveness scenario yielded the following results:\n",
    "\n",
    "- **Odds Ratio**: 0.524  \n",
    "- **P-Value**: 0.0405  \n",
    "\n",
    "Given the p-value is approximately 0.0405, which is less than the conventional significance level of 0.05, we conclude that there is a statistically significant difference in the effectiveness of the two email campaigns. This suggests that Campaign B led to a higher response rate than Campaign A, given the odds ratio is less than 1, indicating Campaign A's response odds are lower compared to Campaign B.\n",
    "\n",
    "Outcome and Strategic Actions:\n",
    "The statistical significance indicates that the small business should consider prioritizing or further analyzing the strategies employed in Campaign B, as it appears to be more effective in eliciting responses from the target audience. This finding can guide future marketing strategies, potentially leading to adjustments in how email campaigns are designed and targeted to maximize engagement and response rates."
   ]
  }
 ],
 "metadata": {
  "kernelspec": {
   "display_name": "Python 3",
   "language": "python",
   "name": "python3"
  },
  "language_info": {
   "codemirror_mode": {
    "name": "ipython",
    "version": 3
   },
   "file_extension": ".py",
   "mimetype": "text/x-python",
   "name": "python",
   "nbconvert_exporter": "python",
   "pygments_lexer": "ipython3",
   "version": "3.12.1"
  }
 },
 "nbformat": 4,
 "nbformat_minor": 4
}
