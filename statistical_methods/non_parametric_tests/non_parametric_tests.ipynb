{
 "cells": [
  {
   "cell_type": "markdown",
   "metadata": {},
   "source": [
    "# Non-Parametric Test: Mann-Whitney U Test\n",
    "\n",
    "The Mann-Whitney U Test is a non-parametric statistical test used to compare differences between two independent groups when the dependent variable is either ordinal or continuous, but not normally distributed. It assesses whether one group tends to have higher values than the other group or vice versa, without making assumptions about the shape of the distribution in the underlying populations.\n",
    "\n",
    "#### Mann-Whitney U Test Formula and Approach\n",
    "\n",
    "The Mann-Whitney U statistic is calculated as follows:\n",
    "\n",
    "$$U = R_1 - \\frac{n_1(n_1 + 1)}{2}$$\n",
    "\n",
    "where:\n",
    "\n",
    "- $U$ is the Mann-Whitney U statistic.\n",
    "- $R_1$ is the sum of ranks in the first group.\n",
    "- $n_1$ is the number of observations in the first group.\n",
    "\n",
    "The test essentially compares the ranks of the observations in the two groups. The null hypothesis ($H_0$) states that the distributions of the two groups are equal.\n",
    "\n",
    "#### Steps\n",
    "\n",
    "1. **Rank all observations:** Combine the data from both groups, rank them from smallest to largest, regardless of the group.\n",
    "2. **Calculate U statistic:** Use the formula to calculate the U statistic for each group.\n",
    "3. **Determine Significance:** Compare the calculated U statistic to critical values from the U distribution table or use a p-value obtained from statistical software to determine if the difference between groups is statistically significant.\n",
    "\n",
    "#### Assumptions\n",
    "\n",
    "- **Independence:** Observations between the two groups are independent.\n",
    "- **Ordinal or Continuous Data:** The dependent variable should be ordinal or continuous.\n",
    "- **Shape of Distribution:** No assumption is made about the form of the distribution, making it suitable for non-normally distributed data.\n",
    "\n",
    "#### Scenario Description: PayPal Transaction Satisfaction by Region\n",
    "\n",
    "PayPal aims to explore transaction satisfaction across two regions, North America and Europe, using a dataset of 10,000 transactions. This analysis will help understand regional differences in user satisfaction, contributing to enhanced user experience and operational efficiency.\n",
    "\n",
    "#### Business Problem\n",
    "\n",
    "The goal is to statistically determine if there's a significant difference in transaction satisfaction between users in North America and Europe, based on user feedback scores.\n",
    "\n",
    "#### Python Code to Simulate Data and to Perform Non-Parametric Test: Mann-Whitney U Test\n"
   ]
  },
  {
   "cell_type": "code",
   "execution_count": 3,
   "metadata": {},
   "outputs": [
    {
     "name": "stdout",
     "output_type": "stream",
     "text": [
      "12544699.5000, 0.7404, Conclusion: no significant difference\n"
     ]
    }
   ],
   "source": [
    "import numpy as np\n",
    "import pandas as pd\n",
    "from scipy.stats import mannwhitneyu\n",
    "\n",
    "# Simulate the dataset\n",
    "np.random.seed(42)\n",
    "data = {\n",
    "    'transaction_id': range(10000),\n",
    "    'region': np.random.choice(['North America', 'Europe'], 10000, p=[0.5, 0.5]),\n",
    "    'user_feedback_score': np.concatenate([np.random.randint(1, 11, 5000), np.random.randint(1, 11, 5000)])\n",
    "}\n",
    "\n",
    "df = pd.DataFrame(data)\n",
    "\n",
    "# Filter data for North America and Europe\n",
    "scores_na = df[df['region'] == 'North America']['user_feedback_score']\n",
    "scores_eu = df[df['region'] == 'Europe']['user_feedback_score']\n",
    "\n",
    "# Apply Mann-Whitney U Test\n",
    "stat, p_value = mannwhitneyu(scores_na, scores_eu)\n",
    "\n",
    "# Interpretation\n",
    "if p_value < 0.05:\n",
    "    conclusion = 'significant difference'\n",
    "else:\n",
    "    conclusion = 'no significant difference'\n",
    "\n",
    "stat, p_value, conclusion\n",
    "print(f\"{stat:.4f}, {p_value:.4f}, Conclusion: no significant difference\")"
   ]
  },
  {
   "cell_type": "markdown",
   "metadata": {},
   "source": [
    "#### Interpretation of Results\n",
    "\n",
    "The Mann-Whitney U Test applied to the PayPal transaction satisfaction data between North America and Europe yielded the following results:\n",
    "\n",
    "- **U Statistic:** 12544699.5  \n",
    "- **P-Value:** 0.7404  \n",
    "- **Conclusion:** No significant difference  \n",
    "\n",
    "The p-value of 0.7404, being much greater than the conventional significance level of 0.05, indicates that there is no significant difference in transaction satisfaction between users in North America and Europe. This result suggests that the regional variability observed in user feedback scores does not statistically substantiate differing levels of satisfaction between these two regions.\n",
    "\n",
    "For PayPal, this finding implies that, from a statistical standpoint, user satisfaction with transactions is consistent across North America and Europe. This uniformity in satisfaction levels suggests that any observed differences in feedback scores are likely due to random variation rather than systemic differences in service delivery or user experience between these regions.\n",
    "\n",
    "Strategic Implications for PayPal:\n",
    "- **Targeted Interventions Not Required by Region:** Since the transaction satisfaction does not significantly differ between the two regions, PayPal might not need to prioritize or customize service improvements specifically for North America or Europe based on the current analysis.\n",
    "\n",
    "- **Focus on Universal Improvements:** PayPal can consider focusing on service enhancements that benefit all users, regardless of their region, to further increase overall satisfaction.\n",
    "\n",
    "- **Continuous Monitoring:** Despite the current lack of significant regional differences, PayPal should continue to monitor user feedback and satisfaction scores regularly. This ensures that any emerging trends or shifts in user satisfaction can be addressed promptly.\n",
    "\n",
    "This analysis highlights the value of applying non-parametric statistical tests like the Mann-Whitney U Test to make informed decisions based on empirical data, guiding strategic actions in a data-driven manner."
   ]
  },
  {
   "cell_type": "code",
   "execution_count": 4,
   "metadata": {},
   "outputs": [],
   "source": [
    "!pip freeze >> requirements.txt"
   ]
  },
  {
   "cell_type": "code",
   "execution_count": null,
   "metadata": {},
   "outputs": [],
   "source": []
  }
 ],
 "metadata": {
  "kernelspec": {
   "display_name": "Python 3",
   "language": "python",
   "name": "python3"
  },
  "language_info": {
   "codemirror_mode": {
    "name": "ipython",
    "version": 3
   },
   "file_extension": ".py",
   "mimetype": "text/x-python",
   "name": "python",
   "nbconvert_exporter": "python",
   "pygments_lexer": "ipython3",
   "version": "3.12.1"
  }
 },
 "nbformat": 4,
 "nbformat_minor": 4
}
